{
 "cells": [
  {
   "cell_type": "markdown",
   "metadata": {},
   "source": [
    "# **Aplicaciones Clásicas de IA en Visión por Computadora**\n",
    "**Instalación de dependencias**:\n",
    "```bash\n",
    "!pip install datasets scikit-learn scikit-image opencv-python matplotlib numpy\n",
    "```"
   ]
  },
  {
   "cell_type": "code",
   "metadata": {
    "ExecuteTime": {
     "end_time": "2025-03-21T23:47:49.842991Z",
     "start_time": "2025-03-21T23:47:47.643564Z"
    }
   },
   "source": [
    "from datasets import load_dataset\n",
    "import cv2\n",
    "import numpy as np\n",
    "import matplotlib.pyplot as plt\n",
    "from skimage.feature import local_binary_pattern, graycomatrix, graycoprops\n",
    "from sklearn.decomposition import PCA\n",
    "from sklearn.neural_network import MLPClassifier\n",
    "from sklearn.model_selection import train_test_split\n",
    "from sklearn.metrics import classification_report"
   ],
   "outputs": [],
   "execution_count": 1
  },
  {
   "cell_type": "markdown",
   "metadata": {},
   "source": [
    "## **1. Cargar Dataset (CIFAR-10)**"
   ]
  },
  {
   "cell_type": "code",
   "metadata": {
    "ExecuteTime": {
     "end_time": "2025-03-21T23:54:31.171072Z",
     "start_time": "2025-03-21T23:51:50.485760Z"
    }
   },
   "source": [
    "# Cargar dataset CIFAR-10 desde Hugging Face\n",
    "dataset = load_dataset(\"cifar10\")\n",
    "\n",
    "# Convertir a numpy arrays\n",
    "def process_dataset(batch):\n",
    "    images = [np.array(img.convert('RGB')) for img in batch[\"img\"]]  # Ensure RGB format\n",
    "    return {\n",
    "        \"image\": [img.astype(np.uint8) for img in images],  # Force uint8 conversion\n",
    "        \"label\": batch[\"label\"]\n",
    "    }\n",
    "\n",
    "\n",
    "dataset = dataset.map(process_dataset, batched=True)\n",
    "train_images = np.array(dataset[\"train\"][\"image\"])\n",
    "train_labels = np.array(dataset[\"train\"][\"label\"])\n",
    "test_images = np.array(dataset[\"test\"][\"image\"])\n",
    "test_labels = np.array(dataset[\"test\"][\"label\"])"
   ],
   "outputs": [],
   "execution_count": 5
  },
  {
   "cell_type": "markdown",
   "metadata": {},
   "source": [
    "## **2. Extracción de Características**"
   ]
  },
  {
   "cell_type": "code",
   "metadata": {
    "ExecuteTime": {
     "end_time": "2025-03-21T23:48:02.504790Z",
     "start_time": "2025-03-21T23:48:02.489392Z"
    }
   },
   "source": [
    "def extract_features(images, radius=3, n_points=24, pca_components=28):\n",
    "    features = []\n",
    "\n",
    "    for img in images:\n",
    "        # Ensure correct dtype and color space\n",
    "        img = np.array(img)\n",
    "        if img.dtype != np.uint8:\n",
    "            img = img.astype(np.uint8)\n",
    "\n",
    "        # Convert to grayscale properly\n",
    "        if len(img.shape) == 3:  # If color image (H, W, C)\n",
    "            gray = cv2.cvtColor(img, cv2.COLOR_RGB2GRAY)\n",
    "        else:  # Already grayscale\n",
    "            gray = img.copy()\n",
    "\n",
    "        # 1. Normalización CLAHE\n",
    "        clahe = cv2.createCLAHE(clipLimit=2.0, tileGridSize=(8, 8))\n",
    "        normalized = clahe.apply(gray)\n",
    "\n",
    "        # 2. LBP\n",
    "        lbp = local_binary_pattern(normalized, n_points, radius, method='uniform')\n",
    "        hist_lbp, _ = np.histogram(lbp, bins=np.arange(0, n_points + 3), range=(0, n_points + 2))\n",
    "\n",
    "        # 3. Haralick\n",
    "        glcm = graycomatrix(normalized, distances=[1], angles=[0], levels=256, symmetric=True, normed=True)\n",
    "        contrast = graycoprops(glcm, 'contrast')[0, 0]\n",
    "        energy = graycoprops(glcm, 'energy')[0, 0]\n",
    "\n",
    "        # Combinar características\n",
    "        features.append(np.concatenate([hist_lbp, [contrast, energy]]))\n",
    "\n",
    "    # Aplicar PCA\n",
    "    pca = PCA(n_components=pca_components)\n",
    "    return pca.fit_transform(np.array(features))"
   ],
   "outputs": [],
   "execution_count": 2
  },
  {
   "cell_type": "markdown",
   "metadata": {},
   "source": [
    "## **3. Entrenamiento y Evaluación**"
   ]
  },
  {
   "metadata": {},
   "cell_type": "code",
   "source": [
    "# Crear y entrenar MLP\n",
    "\n",
    "# 4. Extraer características (¡Ejecutar esto primero!)\n",
    "X_train = extract_features(train_images)\n",
    "X_test = extract_features(test_images)\n",
    "y_train = train_labels\n",
    "y_test = test_labels"
   ],
   "outputs": [],
   "execution_count": null
  },
  {
   "metadata": {},
   "cell_type": "code",
   "source": [
    "\n",
    "mlp = MLPClassifier(\n",
    "    hidden_layer_sizes=(100, 50),\n",
    "    max_iter=500,\n",
    "    alpha=0.001,\n",
    "    learning_rate_init=0.001,\n",
    "    verbose=True\n",
    ")\n",
    "\n",
    "mlp.fit(X_train, y_train)\n",
    "\n",
    "# Evaluar\n",
    "preds = mlp.predict(X_test)\n",
    "print(classification_report(y_test, preds))"
   ],
   "outputs": [],
   "execution_count": null
  },
  {
   "cell_type": "markdown",
   "metadata": {},
   "source": "## **4. Ejemplo con Dataset Médico (skin cancer)**"
  },
  {
   "cell_type": "code",
   "metadata": {
    "ExecuteTime": {
     "end_time": "2025-03-21T23:49:44.374797Z",
     "start_time": "2025-03-21T23:48:49.496871Z"
    }
   },
   "source": [
    "dataset = load_dataset(\"marmal88/skin_cancer\")  # 10,015 imágenes\n",
    "\n",
    "def process_medical_images(batch):\n",
    "    processed = []\n",
    "    for img in batch[\"image\"]:\n",
    "        # Preprocesamiento específico para imágenes médicas\n",
    "        img = np.array(img)\n",
    "        gray = cv2.cvtColor(np.array(img), cv2.COLOR_RGB2GRAY)\n",
    "        resized = cv2.resize(gray, (128, 128))\n",
    "        processed.append(resized)\n",
    "    return {\"image\": processed, \"label\": batch[\"dx\"]}\n",
    "\n",
    "skin_dataset = dataset.map(process_medical_images, batched=True)\n",
    "\n",
    "# Extraer características y entrenar\n",
    "X_medical = extract_features(skin_dataset[\"train\"][\"image\"])\n",
    "y_medical = skin_dataset[\"train\"][\"dx\"]\n",
    "\n",
    "X_train_med, X_test_med, y_train_med, y_test_med = train_test_split(X_medical, y_medical, test_size=0.2)\n",
    "\n",
    "mlp_med = MLPClassifier(hidden_layer_sizes=(50, 25))\n",
    "mlp_med.fit(X_train_med, y_train_med)\n",
    "print(classification_report(y_test_med, mlp_med.predict(X_test_med)))"
   ],
   "outputs": [
    {
     "name": "stdout",
     "output_type": "stream",
     "text": [
      "                               precision    recall  f1-score   support\n",
      "\n",
      "            actinic_keratoses       0.21      0.11      0.15        63\n",
      "         basal_cell_carcinoma       0.17      0.05      0.07        88\n",
      "benign_keratosis-like_lesions       0.29      0.24      0.26       203\n",
      "               dermatofibroma       0.00      0.00      0.00        18\n",
      "             melanocytic_Nevi       0.80      0.84      0.82      1284\n",
      "                     melanoma       0.27      0.38      0.31       233\n",
      "             vascular_lesions       0.00      0.00      0.00        27\n",
      "\n",
      "                     accuracy                           0.64      1916\n",
      "                    macro avg       0.25      0.23      0.23      1916\n",
      "                 weighted avg       0.61      0.64      0.62      1916\n",
      "\n"
     ]
    }
   ],
   "execution_count": 3
  },
  {
   "cell_type": "markdown",
   "metadata": {},
   "source": [
    "## **5. Visualización de Características**"
   ]
  },
  {
   "cell_type": "code",
   "metadata": {
    "ExecuteTime": {
     "end_time": "2025-03-21T23:50:43.647393Z",
     "start_time": "2025-03-21T23:50:43.378610Z"
    }
   },
   "source": [
    "# Mostrar ejemplos\n",
    "def plot_sample_features(idx):\n",
    "    img = train_images[idx]\n",
    "    features = X_train[idx]\n",
    "    \n",
    "    plt.figure(figsize=(15,5))\n",
    "    plt.subplot(131)\n",
    "    plt.imshow(img)\n",
    "    plt.title('Imagen Original')\n",
    "    \n",
    "    plt.subplot(132)\n",
    "    plt.bar(range(len(features)), features)\n",
    "    plt.title('Características Extraídas')\n",
    "    \n",
    "    plt.subplot(133)\n",
    "    plt.scatter(features[:10], features[10:20])\n",
    "    plt.title('Espacio de Características')\n",
    "    plt.show()\n",
    "\n",
    "plot_sample_features(0)\n",
    "plot_sample_features(100)"
   ],
   "outputs": [
    {
     "ename": "NameError",
     "evalue": "name 'train_images' is not defined",
     "output_type": "error",
     "traceback": [
      "\u001B[0;31m---------------------------------------------------------------------------\u001B[0m",
      "\u001B[0;31mNameError\u001B[0m                                 Traceback (most recent call last)",
      "Cell \u001B[0;32mIn[4], line 20\u001B[0m\n\u001B[1;32m     17\u001B[0m     plt\u001B[38;5;241m.\u001B[39mtitle(\u001B[38;5;124m'\u001B[39m\u001B[38;5;124mEspacio de Características\u001B[39m\u001B[38;5;124m'\u001B[39m)\n\u001B[1;32m     18\u001B[0m     plt\u001B[38;5;241m.\u001B[39mshow()\n\u001B[0;32m---> 20\u001B[0m \u001B[43mplot_sample_features\u001B[49m\u001B[43m(\u001B[49m\u001B[38;5;241;43m0\u001B[39;49m\u001B[43m)\u001B[49m\n\u001B[1;32m     21\u001B[0m plot_sample_features(\u001B[38;5;241m100\u001B[39m)\n",
      "Cell \u001B[0;32mIn[4], line 3\u001B[0m, in \u001B[0;36mplot_sample_features\u001B[0;34m(idx)\u001B[0m\n\u001B[1;32m      2\u001B[0m \u001B[38;5;28;01mdef\u001B[39;00m\u001B[38;5;250m \u001B[39m\u001B[38;5;21mplot_sample_features\u001B[39m(idx):\n\u001B[0;32m----> 3\u001B[0m     img \u001B[38;5;241m=\u001B[39m \u001B[43mtrain_images\u001B[49m[idx]\n\u001B[1;32m      4\u001B[0m     features \u001B[38;5;241m=\u001B[39m X_train[idx]\n\u001B[1;32m      6\u001B[0m     plt\u001B[38;5;241m.\u001B[39mfigure(figsize\u001B[38;5;241m=\u001B[39m(\u001B[38;5;241m15\u001B[39m,\u001B[38;5;241m5\u001B[39m))\n",
      "\u001B[0;31mNameError\u001B[0m: name 'train_images' is not defined"
     ]
    }
   ],
   "execution_count": 4
  },
  {
   "cell_type": "markdown",
   "metadata": {},
   "source": [
    "## **6. Optimización de Hiperparámetros**"
   ]
  },
  {
   "cell_type": "code",
   "metadata": {},
   "source": [
    "from sklearn.model_selection import GridSearchCV\n",
    "\n",
    "# Configurar parámetros\n",
    "parameters = {\n",
    "    'hidden_layer_sizes': [(50,), (100,), (50, 25)],\n",
    "    'activation': ['tanh', 'relu'],\n",
    "    'alpha': [0.0001, 0.001, 0.01]\n",
    "}\n",
    "\n",
    "# Búsqueda en grid\n",
    "clf = GridSearchCV(MLPClassifier(max_iter=200), parameters, n_jobs=-1, cv=3)\n",
    "clf.fit(X_train, y_train)\n",
    "\n",
    "print(f\"Mejores parámetros: {clf.best_params_}\")\n",
    "print(f\"Mejor puntuación: {clf.best_score_:.2f}\")"
   ],
   "outputs": [],
   "execution_count": null
  },
  {
   "cell_type": "markdown",
   "metadata": {},
   "source": [
    "## **Referencias**\n",
    "- CIFAR-10: https://huggingface.co/datasets/cifar10\n",
    "- Scikit-learn: https://scikit-learn.org\n",
    "- OpenCV: https://opencv.org"
   ]
  }
 ],
 "metadata": {
  "kernelspec": {
   "display_name": "Python 3",
   "language": "python",
   "name": "python3"
  },
  "language_info": {
   "codemirror_mode": {
    "name": "ipython",
    "version": 3
   },
   "file_extension": ".py",
   "mimetype": "text/x-python",
   "name": "python",
   "nbconvert_exporter": "python",
   "pygments_lexer": "ipython3",
   "version": "3.9.13"
  }
 },
 "nbformat": 4,
 "nbformat_minor": 4
}
