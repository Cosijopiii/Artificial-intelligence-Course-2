{
 "cells": [
  {
   "cell_type": "markdown",
   "metadata": {},
   "source": [
    "# **Image Processing Techniques**\n",
    "**Required packages**:  \n",
    "`!pip install numpy matplotlib opencv-python scikit-image ipywidgets`"
   ]
  },
  {
   "metadata": {},
   "cell_type": "markdown",
   "source": [
    "## **2.1 Convolution Fundamentals**\n",
    "### **Theory**\n",
    "Convolution is the fundamental operation in image processing. It involves applying a **kernel** (small matrix) over the entire image:\n",
    "\n",
    "$$ (I * K)(x,y) = \\sum_{i=-a}^a \\sum_{j=-b}^b I(x+i, y+j) \\cdot K(i,j) $$\n",
    "\n",
    "Where:\n",
    "- $I$ = Original image\n",
    "- $K$ = Kernel (coefficient matrix)\n",
    "- $a,b$ = Kernel radius\n",
    "\n",
    "**Key characteristics**:\n",
    "- Kernels are typically odd-sized matrices (3x3, 5x5)\n",
    "- The operation emphasizes or suppresses spatial patterns\n",
    "- Padding is applied to maintain image size\n"
   ]
  },
  {
   "metadata": {
    "ExecuteTime": {
     "end_time": "2025-03-14T17:28:55.936794Z",
     "start_time": "2025-03-14T17:28:54.680617Z"
    }
   },
   "cell_type": "code",
   "source": [
    "import numpy as np\n",
    "import matplotlib.pyplot as plt\n",
    "import cv2\n",
    "\n",
    "\n",
    "# Visual convolution example\n",
    "def plot_convolution_demo():\n",
    "    image = np.zeros((7,7))\n",
    "    image[3,3] = 1  # Dirac delta\n",
    "    kernel = np.array([[1,2,3],\n",
    "                      [4,5,6],\n",
    "                      [7,8,9]])\n",
    "\n",
    "    fig, ax = plt.subplots(1,3, figsize=(15,5))\n",
    "    ax[0].imshow(image, cmap='gray'), ax[0].set_title('Original image')\n",
    "    ax[1].imshow(kernel, cmap='gray'), ax[1].set_title('Kernel')\n",
    "\n",
    "    # Manual convolution\n",
    "    result = np.zeros_like(image)\n",
    "    for i in range(1,6):\n",
    "        for j in range(1,6):\n",
    "            result[i,j] = np.sum(image[i-1:i+2, j-1:j+2] * kernel)\n",
    "\n",
    "    ax[2].imshow(result, cmap='gray'), ax[2].set_title('Convolution result')\n",
    "    plt.show()\n",
    "\n",
    "plot_convolution_demo()"
   ],
   "outputs": [
    {
     "data": {
      "text/plain": [
       "<Figure size 1500x500 with 3 Axes>"
      ],
      "image/png": "[encoded data removed]"
     },
     "metadata": {},
     "output_type": "display_data"
    }
   ],
   "execution_count": 2
  },
  {
   "cell_type": "markdown",
   "metadata": {},
   "source": [
    "## **2.2 Filters**\n",
    "### **2.2.1 Mean Filter**\n",
    "**Theory**:  \n",
    "Smoothing through local averaging. Effective against Gaussian noise but blurs edges.\n",
    "\n",
    "3x3 Kernel:\n",
    "$$ K = \\frac{1}{9} \\begin{bmatrix} 1 & 1 & 1 \\\\ 1 & 1 & 1 \\\\ 1 & 1 & 1 \\end{bmatrix} $$"
   ]
  },
  {
   "cell_type": "code",
   "metadata": {
    "ExecuteTime": {
     "end_time": "2025-03-14T17:29:09.634675Z",
     "start_time": "2025-03-14T17:29:09.343457Z"
    }
   },
   "source": [
    "from ipywidgets import interact\n",
    "\n",
    "def mean_filter_demo(image_path='noisy_image.jpg'):\n",
    "    img = cv2.imread(image_path, 0)\n",
    "    \n",
    "    @interact(kernel_size=(3,15,2))\n",
    "    def apply_mean_filter(kernel_size=3):\n",
    "        filtered = cv2.blur(img, (kernel_size, kernel_size))\n",
    "        plt.figure(figsize=(10,5))\n",
    "        plt.subplot(121), plt.imshow(img, cmap='gray'), plt.title('Original')\n",
    "        plt.subplot(122), plt.imshow(filtered, cmap='gray'), plt.title(f'Mean Filter {kernel_size}x{kernel_size}')\n",
    "        plt.show()\n",
    "    \n",
    "mean_filter_demo('salt_pepper.png')"
   ],
   "outputs": [
    {
     "data": {
      "text/plain": [
       "interactive(children=(IntSlider(value=3, description='kernel_size', max=15, min=3, step=2), Output()), _dom_cl…"
      ],
      "application/vnd.jupyter.widget-view+json": {
       "version_major": 2,
       "version_minor": 0,
       "model_id": "334c8d049f8b4cb99e36d758012af3b9"
      }
     },
     "metadata": {},
     "output_type": "display_data"
    }
   ],
   "execution_count": 4
  },
  {
   "cell_type": "markdown",
   "metadata": {},
   "source": [
    "### **2.2.2 Gaussian Filter**\n",
    "**Theory**:  \n",
    "Smoothing with weights following 2D Gaussian distribution:\n",
    "$$ G(x,y) = \\frac{1}{2\\pi\\sigma^2} e^{-\\frac{x^2+y^2}{2\\sigma^2}} $$\n",
    "\n",
    "Properties:\n",
    "- σ controls smoothing (higher σ → more blur)\n",
    "- Better edge preservation than mean filter"
   ]
  },
  {
   "cell_type": "code",
   "metadata": {
    "ExecuteTime": {
     "end_time": "2025-03-14T17:38:57.711150Z",
     "start_time": "2025-03-14T17:38:57.365092Z"
    }
   },
   "source": [
    "def gaussian_filter_demo(image_path='noisy_image.jpg'):\n",
    "    img = cv2.imread(image_path)\n",
    "    \n",
    "    @interact(sigma=(0.1, 5.0, 0.1), kernel_size=(3,15,2))\n",
    "    def apply_gaussian(sigma=1.0, kernel_size=5):\n",
    "        filtered = cv2.GaussianBlur(img, (kernel_size,kernel_size), sigma)\n",
    "        plt.figure(figsize=(10,5))\n",
    "        plt.subplot(121), plt.imshow(cv2.cvtColor(img, cv2.COLOR_BGR2RGB)), plt.title('Original')\n",
    "        plt.subplot(122), plt.imshow(cv2.cvtColor(filtered, cv2.COLOR_BGR2RGB)), plt.title(f'Gaussian (σ={sigma}, {kernel_size}x{kernel_size})')\n",
    "        plt.show()\n",
    "        \n",
    "gaussian_filter_demo('lena.png')"
   ],
   "outputs": [
    {
     "data": {
      "text/plain": [
       "interactive(children=(FloatSlider(value=1.0, description='sigma', max=5.0, min=0.1), IntSlider(value=5, descri…"
      ],
      "application/vnd.jupyter.widget-view+json": {
       "version_major": 2,
       "version_minor": 0,
       "model_id": "7d22088ef4a246f085bebbbb9f44f4ab"
      }
     },
     "metadata": {},
     "output_type": "display_data"
    }
   ],
   "execution_count": 10
  },
  {
   "cell_type": "markdown",
   "metadata": {},
   "source": [
    "### **2.2.3 Median Filter**\n",
    "**Theory**:\n",
    "Non-linear filter replacing each pixel with neighborhood median. Effective against impulse noise (salt & pepper).\n",
    "\n",
    "Advantages:\n",
    "- Preserves sharp edges\n",
    "- Removes outliers without blurring\n",
    "\n",
    "Mathematical definition for window $W$:\n",
    "$$ I_{filtered}(x,y) = \\text{median}\\{I(i,j) | (i,j) \\in W(x,y)\\} $$"
   ]
  },
  {
   "metadata": {
    "ExecuteTime": {
     "end_time": "2025-03-12T17:30:03.190720Z",
     "start_time": "2025-03-12T17:30:02.838002Z"
    }
   },
   "cell_type": "code",
   "outputs": [
    {
     "data": {
      "text/plain": [
       "interactive(children=(IntSlider(value=3, description='kernel_size', max=15, min=3, step=2), Output()), _dom_cl…"
      ],
      "application/vnd.jupyter.widget-view+json": {
       "version_major": 2,
       "version_minor": 0,
       "model_id": "35edd0f91c6643ef9b2278e84ae6927a"
      }
     },
     "metadata": {},
     "output_type": "display_data"
    }
   ],
   "execution_count": 10,
   "source": [
    "def median_filter_demo(image_path='salt_pepper.jpg'):\n",
    "    img = cv2.imread(image_path, 0)\n",
    "\n",
    "    @interact(kernel_size=(3, 15, 2))\n",
    "    def apply_median(kernel_size=3):\n",
    "        filtered = cv2.medianBlur(img, kernel_size)\n",
    "        plt.figure(figsize=(10,5))\n",
    "        plt.subplot(121), plt.imshow(img, cmap='gray'), plt.title('Original')\n",
    "        plt.subplot(122), plt.imshow(filtered, cmap='gray'), plt.title(f'Median Filter {kernel_size}x{kernel_size}')\n",
    "        plt.show()\n",
    "\n",
    "median_filter_demo()"
   ]
  },
  {
   "cell_type": "markdown",
   "metadata": {},
   "source": [
    "## **2.3 Quality Enhancement**\n",
    "### **2.3.1 Contrast Adjustment**\n",
    "**Theory**:\n",
    "Intensity transformations to expand histogram:\n",
    "- **Histogram equalization**:\n",
    "  $$ s_k = T(r_k) = (L-1)\\sum_{j=0}^k p_r(r_j) $$\n",
    "  \n",
    "- **Gamma correction**:\n",
    "  $$ s = c \\cdot r^\\gamma $$\n",
    "  - γ < 1: Brightens dark areas\n",
    "  - γ > 1: Enhances contrast in bright areas"
   ]
  },
  {
   "cell_type": "code",
   "metadata": {
    "ExecuteTime": {
     "end_time": "2025-03-14T17:29:15.100526Z",
     "start_time": "2025-03-14T17:29:14.804021Z"
    }
   },
   "source": [
    "\n",
    "def contrast_adjustment_demo(image_path='low_contrast.jpg'):\n",
    "    img = cv2.imread(image_path, 0)\n",
    "    \n",
    "    # Equalization\n",
    "    equ = cv2.equalizeHist(img)\n",
    "    \n",
    "    # Gamma transformation\n",
    "    def apply_gamma_correction(gamma=1.0):\n",
    "        corrected = np.array(255*(img/255)**gamma, dtype=np.uint8)\n",
    "        return corrected\n",
    "    \n",
    "    @interact(gamma=(0.1, 3.0, 0.1))\n",
    "    def update(gamma=1.0):\n",
    "        gamma_corrected = apply_gamma_correction(gamma)\n",
    "        \n",
    "        plt.figure(figsize=(15,5))\n",
    "        plt.subplot(131), plt.imshow(img, cmap='gray'), plt.title('Original')\n",
    "        plt.subplot(132), plt.imshow(equ, cmap='gray'), plt.title('Equalization')\n",
    "        plt.subplot(133), plt.imshow(gamma_corrected, cmap='gray'), plt.title(f'Gamma (γ={gamma})')\n",
    "        plt.show()\n",
    "        \n",
    "contrast_adjustment_demo('lena.png')"
   ],
   "outputs": [
    {
     "data": {
      "text/plain": [
       "interactive(children=(FloatSlider(value=1.0, description='gamma', max=3.0, min=0.1), Output()), _dom_classes=(…"
      ],
      "application/vnd.jupyter.widget-view+json": {
       "version_major": 2,
       "version_minor": 0,
       "model_id": "032221e187e24457b355da8476b7fd5f"
      }
     },
     "metadata": {},
     "output_type": "display_data"
    }
   ],
   "execution_count": 5
  },
  {
   "cell_type": "markdown",
   "metadata": {},
   "source": [
    "### **2.3.2 Sharpening**\n",
    "**Theory**:\n",
    "Edge enhancement through high frequencies. Common technique: Unsharp Masking\n",
    "\n",
    "$$ I_{sharp} = I + \\lambda(I - I_{blur}) $$\n",
    "\n",
    "Where:\n",
    "- $I_{blur}$ = Smoothed version of image\n",
    "- $\\lambda$ = Enhancement factor (typical 1.5-2.5)"
   ]
  },
  {
   "cell_type": "code",
   "metadata": {
    "ExecuteTime": {
     "end_time": "2025-03-14T17:35:54.444960Z",
     "start_time": "2025-03-14T17:35:54.092285Z"
    }
   },
   "source": [
    "def sharpening_demo(image_path='blurry.jpg'):\n",
    "    img = cv2.imread(image_path, 0)\n",
    "    \n",
    "    @interact(alpha=(0.0, 3.0, 0.1), kernel_size=(3, 31, 2))\n",
    "    def apply_sharpening(alpha=1.5, kernel_size=5):\n",
    "        blurred = cv2.GaussianBlur(img, (kernel_size,kernel_size), 0)\n",
    "        sharp = cv2.addWeighted(img, 1 + alpha, blurred, -alpha, 0)\n",
    "        \n",
    "        plt.figure(figsize=(15,5))\n",
    "        plt.subplot(131), plt.imshow(img, cmap='gray'), plt.title('Original')\n",
    "        plt.subplot(132), plt.imshow(blurred, cmap='gray'), plt.title('Blurred image')\n",
    "        plt.subplot(133), plt.imshow(sharp, cmap='gray'), plt.title(f'Sharpened (α={alpha})')\n",
    "        plt.show()\n",
    "        \n",
    "sharpening_demo('lena.png')"
   ],
   "outputs": [
    {
     "data": {
      "text/plain": [
       "interactive(children=(FloatSlider(value=1.5, description='alpha', max=3.0), IntSlider(value=5, description='ke…"
      ],
      "application/vnd.jupyter.widget-view+json": {
       "version_major": 2,
       "version_minor": 0,
       "model_id": "8a53b17ddacf438e957b43e70432a7e2"
      }
     },
     "metadata": {},
     "output_type": "display_data"
    }
   ],
   "execution_count": 8
  },
  {
   "cell_type": "markdown",
   "metadata": {},
   "source": [
    "### **2.3.3 Noise Removal**\n",
    "**Method comparison**:\n",
    "1. **Gaussian noise** → Gaussian Filter\n",
    "2. **Salt & Pepper noise** → Median Filter\n",
    "3. **Poisson noise** → Bilateral Filter\n",
    "\n",
    "**Bilateral Filter**:\n",
    "$$ I_{filtered}(x) = \\frac{1}{W} \\sum_{y\\in\\Omega} I(y) \\cdot f(\\|x-y\\|) \\cdot g(\\|I(x)-I(y)\\|) $$\n",
    "Where:\n",
    "- $f$ = Spatial function (Gaussian)\n",
    "- $g$ = Range function (intensity)"
   ]
  },
  {
   "cell_type": "code",
   "metadata": {
    "ExecuteTime": {
     "end_time": "2025-03-14T17:44:09.053361Z",
     "start_time": "2025-03-14T17:44:08.706347Z"
    }
   },
   "source": [
    "def noise_removal_demo(image_path='lena.png'):\n",
    "    img = cv2.imread(image_path)\n",
    "    \n",
    "    # Generate different noise types\n",
    "    def add_noise(image, noise_type='gaussian'):\n",
    "        row,col,ch = image.shape\n",
    "        if noise_type == 'gaussian':\n",
    "            mean = 0\n",
    "            var = 0.1\n",
    "            sigma = var**0.5\n",
    "            gauss = np.random.normal(mean,sigma,(row,col,ch))\n",
    "            noisy = image + gauss*255\n",
    "            return np.clip(noisy, 0, 255).astype(np.uint8)\n",
    "        elif noise_type == 's&p':\n",
    "            s_vs_p = 0.5\n",
    "            amount = 0.04\n",
    "            out = np.copy(image)\n",
    "            # Salt\n",
    "            num_salt = np.ceil(amount * image.size * s_vs_p)\n",
    "            coords = [np.random.randint(0, i-1, int(num_salt)) for i in image.shape]\n",
    "            out[coords[0], coords[1], :] = 255\n",
    "            # Pepper\n",
    "            num_pepper = np.ceil(amount * image.size * (1. - s_vs_p))\n",
    "            coords = [np.random.randint(0, i-1, int(num_pepper)) for i in image.shape]\n",
    "            out[coords[0], coords[1], :] = 0\n",
    "            return out\n",
    "        \n",
    "    @interact(noise_type=['gaussian', 's&p'], filter_type=['gaussian', 'median', 'bilateral'])\n",
    "    def compare_filters(noise_type='gaussian', filter_type='gaussian'):\n",
    "        noisy = add_noise(img, noise_type)\n",
    "        \n",
    "        if filter_type == 'gaussian':\n",
    "            filtered = cv2.GaussianBlur(noisy, (5,5), 0)\n",
    "        elif filter_type == 'median':\n",
    "            filtered = cv2.medianBlur(noisy, 5)\n",
    "        else:\n",
    "            filtered = cv2.bilateralFilter(noisy, 9, 75, 75)\n",
    "            \n",
    "        plt.figure(figsize=(15,5))\n",
    "        plt.subplot(131), plt.imshow(cv2.cvtColor(img, cv2.COLOR_BGR2RGB)), plt.title('Original')\n",
    "        plt.subplot(132), plt.imshow(cv2.cvtColor(noisy, cv2.COLOR_BGR2RGB)), plt.title(f'{noise_type} noise')\n",
    "        plt.subplot(133), plt.imshow(cv2.cvtColor(filtered, cv2.COLOR_BGR2RGB)), plt.title(f'{filter_type} filter')\n",
    "        plt.show()\n",
    "        \n",
    "noise_removal_demo('salt_pepper.png')"
   ],
   "outputs": [
    {
     "data": {
      "text/plain": [
       "interactive(children=(Dropdown(description='noise_type', options=('gaussian', 's&p'), value='gaussian'), Dropd…"
      ],
      "application/vnd.jupyter.widget-view+json": {
       "version_major": 2,
       "version_minor": 0,
       "model_id": "3c6361a6b82841eaa3886918c50494b8"
      }
     },
     "metadata": {},
     "output_type": "display_data"
    }
   ],
   "execution_count": 12
  },
  {
   "cell_type": "markdown",
   "metadata": {},
   "source": [
    "## **References**\n",
    "1. Gonzalez, R. C., & Woods, R. E. (2018). *Digital Image Processing*\n",
    "2. Szeliski, R. (2022). *Computer Vision: Algorithms and Applications*\n",
    "3. OpenCV Documentation (2023)"
   ]
  }
 ],
 "metadata": {
  "kernelspec": {
   "display_name": "Python 3",
   "language": "python",
   "name": "python3"
  },
  "language_info": {
   "codemirror_mode": {
    "name": "ipython",
    "version": 3
   },
   "file_extension": ".py",
   "mimetype": "text/x-python",
   "name": "python",
   "nbconvert_exporter": "python",
   "pygments_lexer": "ipython3",
   "version": "3.9.13"
  }
 },
 "nbformat": 4,
 "nbformat_minor": 4
}
