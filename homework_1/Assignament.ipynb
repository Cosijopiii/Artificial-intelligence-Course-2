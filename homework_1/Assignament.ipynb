{
  "cells": [
    {
      "cell_type": "markdown",
      "metadata": {},
      "source": [
        "# Análisis ML: [Nombre Dataset]\n",
        "**Objetivo**: Comparar modelos clásicos de ML usando características manuales"
      ]
    },
    {
      "cell_type": "code",
      "execution_count": null,
      "metadata": {},
      "outputs": [],
      "source": [
        "# %% [markdown]\n",
        "# 1. Configuración\\n",
        "!pip install datasets scikit-learn matplotlib",
        "import cv2\n",
        "import numpy as np\n",
        "from sklearn.model_selection import train_test_split"
      ]
    },
    {
      "cell_type": "code",
      "execution_count": null,
      "metadata": {},
      "outputs": [],
      "source": [
        "# %% [markdown]\n",
        "# 2. Carga de Datos\\n",
        "dataset = load_dataset(\"[nombre_dataset]\")\n",
        "df = pd.DataFrame(dataset['train'][:1000])  # Ejemplo para subset"
      ]
    },
    {
      "cell_type": "code",
      "execution_count": null,
      "metadata": {},
      "outputs": [],
      "source": [
        "# %% [markdown]\n",
        "# 3. Preprocesamiento\\n",
        "def preprocess(img):\n",
        "    return cv2.resize(np.array(img), (128,128))  # Ejemplo básico\n",
        "processed = dataset.map(lambda x: {'processed': preprocess(x['image'])}, batched=True)"
      ]
    },
    {
      "cell_type": "code",
      "execution_count": null,
      "metadata": {},
      "outputs": [],
      "source": [
        "# %% [markdown]\n",
        "# 4. Extracción de Features\\n",
        "def extract_features(imgs):\n",
        "    return np.array([cv2.HuMoments(cv2.moments(img)).flatten() for img in imgs])  # Ejemplo Hu Moments\n",
        "X = extract_features(processed['train']['processed'])\n",
        "y = processed['train']['label']"
      ]
    },
    {
      "cell_type": "code",
      "execution_count": null,
      "metadata": {},
      "outputs": [],
      "source": [
        "# %% [markdown]\n",
        "# 5. Entrenamiento de Modelos\\n",
        "models = {\n",
        "    'SVM': SVC(),\n",
        "    'Random Forest': RandomForestClassifier(),\n",
        "    'MLP': MLPClassifier(hidden_layer_sizes=(50,25))\n",
        "}\n",
        "for name, model in models.items():\n",
        "    model.fit(X_train, y_train)"
      ]
    },
    {
      "cell_type": "code",
      "execution_count": null,
      "metadata": {},
      "outputs": [],
      "source": [
        "# %% [markdown]\n",
        "# 6. Evaluación\\n",
        "fig, axs = plt.subplots(1, len(models), figsize=(20,5))\n",
        "for ax, (name, model) in zip(axs, models.items()):\n",
        "    plot_confusion_matrix(model, X_test, y_test, ax=ax)\n",
        "    ax.set_title(name)"
      ]
    },
    {
      "cell_type": "code",
      "execution_count": null,
      "metadata": {},
      "outputs": [],
      "source": [
        "# %% [markdown]\n",
        "# 7. Análisis Final\\n",
        "# Tabla comparativa\\n",
        "results = pd.DataFrame({\n",
        "    'Modelo': models.keys(),\n",
        "    'Accuracy': [accuracy_score(y_test, m.predict(X_test)) for m in models.values()]\n",
        "})"
      ]
    }
  ],
  "metadata": {
    "kernelspec": {
      "display_name": "Python 3",
      "language": "python",
      "name": "python3"
    }
  }
}